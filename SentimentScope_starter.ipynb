{
 "cells": [
  {
   "cell_type": "markdown",
   "id": "d4ee8142",
   "metadata": {},
   "source": [
    "# SentimentScope: Sentiment Analysis using Transformers!\n",
    "Completed by: Al Rey Villagracia\n",
    "## Introduction <a name = \"introduction\"></a>\n",
    "\n",
    "In this notebook, you will train a transformer model from scratch to perform sentiment analysis on the IMDB dataset. You are a Machine Learning Engineer at Cinescope, a growing entertainment company working to enhance its recommendation system. Your task is to fine-tune a transformer-based model for sentiment analysis using the IMDB dataset. By classifying reviews as positive or negative, you will help the company better understand user sentiment and deliver more personalized experiences.\n",
    "\n",
    "By completing this project, you will demonstrate your competency in the following learning objectives:\n",
    "\n",
    "- Load, explore, and prepare a text dataset for training a transformer model using PyTorch.\n",
    "- Customize the architecture of the transformer model for a classification task.\n",
    "- Train and test a transformer model on the IMDB dataset.\n",
    "\n",
    "Now that you have an overview of what you will achieve in this project, let’s move on to the project outline.\n",
    "\n",
    "---\n",
    "\n",
    "### Project Outline\n",
    "\n",
    "This notebook is organized into the following sections:\n",
    "\n",
    "\n",
    "1. [Introduction](#introduction): Overview of the project, learning objectives, and understanding sentiment analysis.\n",
    "2. [Load, Explore, and Prepare the Dataset](#load-explore-and-prepare-the-dataset): Load the IMDB dataset, explore it with visualizations, and split it into training and validation sets.\n",
    "3. [Implement a DataLoader in PyTorch](#implement-a-dataloader-in-pytorch): Create the `IMDBDataset` class and use it with the PyTorch `DataLoader`, including tokenization.\n",
    "4. [Customize the Transformer Architecture](#customize-the-transformer-architecture): Modify the transformer model for binary classification.\n",
    "5. [Implement Accuracy Calculation Method](#implement-accuracy-calculation-method): Create a function to compute accuracy for monitoring performance.\n",
    "6. [Train the Model](#train-the-model): Complete and execute the training loop for binary classification.\n",
    "7. [Test the Model](#test-the-model): Evaluate the model on the test dataset and ensure it achieves over 75% accuracy.\n",
    "8. [Conclusion](#conclusion): Summarize the project results and key takeaways.\n",
    "\n",
    "Click on the section titles above to navigate directly to the corresponding part of the notebook!\n",
    "\n",
    "---\n",
    "\n",
    "Now that we've outlined the structure and objectives of this project, let's delve into the core concept: sentiment analysis.\n",
    "\n",
    "### Understanding Sentiment Analysis\n",
    "\n",
    "Sentiment analysis is a natural language processing (NLP) technique used to determine the sentiment expressed in a piece of text. This can range from identifying the polarity (positive, negative, or neutral) of a review to analyzing emotions and opinions.\n",
    "\n",
    "In this project, sentiment analysis is explicitly framed as a **binary classification task**, where the goal is to determine whether a given movie review is *positive* or *negative*. This task is central to many real-world applications, including customer feedback analysis, social media monitoring, and recommendation systems. By developing a transformer-based model, you will classify IMDB movie reviews as positive or negative to tackle the challenge faced by your entertainment company CineScope by enhancing its recommendation system, enabling more accurate and personalized suggestions. \n",
    "\n",
    "Reviews labeled as positive will be marked as 1 in the dataset, while negative reviews will be labeled as 0.\n",
    "\n",
    "For example, consider the following movie review:\n",
    "\n",
    "> \"The movie was a rollercoaster of emotions, and I loved every moment of it!\"\n",
    "\n",
    "This review is clearly positive as it expresses enjoyment and satisfaction with the movie, hence it will be labelled as *positive* or 1 in the dataset. In contrast:\n",
    "\n",
    "> \"The plot was predictable, and the acting was subpar. A waste of time.\"\n",
    "\n",
    "This review conveys a negative sentiment, criticizing both the plot and acting, hence it will be labelled as *negative* or 0 in the dataset.\n",
    "\n",
    "While transformers are often used for generation tasks, they can also be adapted for classification tasks with some modifications to their architecture. You might already be familiar with the tweaks that we will implement in this project.\n",
    "\n",
    "\n",
    "---\n",
    "\n",
    "### Data Description\n",
    "\n",
    "The dataset used in this project is the [IMDB dataset](https://ai.stanford.edu/~amaas/data/sentiment/), provided in the `aclIMDB_v1.tar.gz` file. Upon extracting the file, you will find the following folder structure:\n",
    "\n",
    "```\n",
    "aclIMDB/\n",
    "├── train/\n",
    "│   ├── pos/    # Positive reviews for training\n",
    "│   ├── neg/    # Negative reviews for training\n",
    "│   ├── unsup/  # Unsupervised data (not used in this project)\n",
    "├── test/\n",
    "│   ├── pos/    # Positive reviews for testing\n",
    "│   ├── neg/    # Negative reviews for testing\n",
    "```\n",
    "\n",
    "- **train/**: Contains labeled data for training the model. Reviews in the `pos/` folder should be labeled as positive (1), while reviews in the `neg/` folder should be labeled as negative (0).\n",
    "- **test/**: Contains labeled data for evaluating the model. Similar to the training data, `pos/` and `neg/` contain positive and negative reviews, respectively.\n",
    "- **unsup/**: Contains unlabeled reviews that are not used in this project.\n",
    "\n",
    "Understanding the folder structure is crucial as it guides how we load and preprocess the data for the sentiment classification task.\n",
    "\n",
    "---\n"
   ]
  },
  {
   "cell_type": "markdown",
   "id": "0738efb7",
   "metadata": {},
   "source": [
    "## <a name=\"load-explore-and-prepare-the-dataset\"></a>Load, Explore, and Prepare the Dataset\n",
    "\n",
    "### 1. Load the Dataset\n",
    "The dataset is already available in the environment as `aclIMDB_v1.tar.gz`. We will load it into Pandas DataFrames for easy exploration and preparation.\n"
   ]
  },
  {
   "cell_type": "code",
   "execution_count": 1,
   "id": "20c2264b",
   "metadata": {},
   "outputs": [],
   "source": [
    "import os\n",
    "import pandas as pd"
   ]
  },
  {
   "cell_type": "code",
   "execution_count": 2,
   "id": "9d4e8f15",
   "metadata": {},
   "outputs": [],
   "source": [
    "# Unpack the dataset - uncomment the line below to run\n",
    "!tar -xzf aclImdb_v1.tar.gz"
   ]
  },
  {
   "cell_type": "markdown",
   "id": "2b411455",
   "metadata": {},
   "source": [
    "You have successfully extracted the folder. Go back to your workspace and explore the folder structure and find the relative paths for each of the following:\n",
    "- Training positive reviews\n",
    "- Training negative reviews\n",
    "- Testing positive reviews\n",
    "- Testing negative reviews\n",
    "\n",
    "Assign the paths of these folders relative to the starter file in the variables below.\n"
   ]
  },
  {
   "cell_type": "code",
   "execution_count": 3,
   "id": "41a4caf8",
   "metadata": {},
   "outputs": [],
   "source": [
    "# Define paths to dataset\n",
    "train_pos_path = 'aclImdb/train/pos' # Path to the directory containing positive reviews from the training set\n",
    "train_neg_path = 'aclImdb/train/neg' # Path to the directory containing negative reviews from the training set\n",
    "test_pos_path = 'aclImdb/test/pos' # Path to the directory containing positive reviews from the test set\n",
    "test_neg_path = 'aclImdb/test/neg' # Path to the directory containing negative reviews from the test set"
   ]
  },
  {
   "cell_type": "markdown",
   "id": "da02785d",
   "metadata": {},
   "source": [
    "Now, you will implement the `load_dataset()` function, which reads all text files in a specified folder and returns their content as a list of strings. This function is essential for loading and preprocessing the dataset in subsequent steps.\n",
    "\n",
    "To implement this function:\n",
    "\n",
    "1. **Use the `os` module**: Leverage Python's `os` module to list all files in the folder.\n",
    "2. **Handle file paths**: Use `os.path.join()` to construct full paths for files, ensuring compatibility across operating systems.\n",
    "3. **Read file content**: Open each file in read mode (`'r'`) using UTF-8 encoding to handle text properly.\n",
    "4. **Aggregate results**: Append the content of each file to a list and return it.\n",
    "\n",
    "### Key Points to Consider:\n",
    "- Ensure that the function only processes text files (you may use file extensions for filtering if needed).\n",
    "- Refer to the [os.listdir documentation](https://docs.python.org/3/library/os.html#os.listdir) for listing files in a directory.\n"
   ]
  },
  {
   "cell_type": "code",
   "execution_count": 4,
   "id": "88450b2f",
   "metadata": {},
   "outputs": [],
   "source": [
    "def load_dataset(folder):\n",
    "    \"\"\"\n",
    "    Reads all text files in the specified folder and returns their content as a list.\n",
    "\n",
    "    Args:\n",
    "        folder (str): Path to the folder containing text files.\n",
    "\n",
    "    Returns:\n",
    "        list: A list of strings, where each string is the content of a text file.\n",
    "    \"\"\"\n",
    "    #TODO: Implement the function here\n",
    "    \n",
    "    texts = []\n",
    "    for fname in os.listdir(folder):\n",
    "        if fname.endswith('.txt'):\n",
    "            with open(os.path.join(folder, fname), 'r', encoding='utf-8', errors='ignore') as f:\n",
    "                texts.append(f.read())\n",
    "    return texts"
   ]
  },
  {
   "cell_type": "markdown",
   "id": "f98a2d6c",
   "metadata": {},
   "source": [
    "Use the function now to load the training and testing data:"
   ]
  },
  {
   "cell_type": "code",
   "execution_count": 5,
   "id": "dc1e6397",
   "metadata": {
    "scrolled": true
   },
   "outputs": [],
   "source": [
    "# Load training and testing data\n",
    "train_pos = load_dataset(train_pos_path)\n",
    "train_neg = load_dataset(train_neg_path)\n",
    "test_pos  = load_dataset(test_pos_path)\n",
    "test_neg  = load_dataset(test_neg_path)"
   ]
  },
  {
   "cell_type": "markdown",
   "id": "a85c84cd",
   "metadata": {},
   "source": [
    "We can convert the data into pandas dataframes to make handling the datasets easier."
   ]
  },
  {
   "cell_type": "code",
   "execution_count": 6,
   "id": "1e3891dd",
   "metadata": {
    "scrolled": false
   },
   "outputs": [
    {
     "name": "stdout",
     "output_type": "stream",
     "text": [
      "                                              review  label\n",
      "0  I never thought an old cartoon would bring tea...      1\n",
      "1  'Where the Sidewalk Ends (1950)' opens, approp...      1\n",
      "2  I really like this movie because in Australia,...      1\n",
      "3  The Ogre is a film made for TV in Italy and wa...      1\n",
      "4  What a good film! Made Men is a great action m...      1\n"
     ]
    }
   ],
   "source": [
    "# Create DataFrames\n",
    "train_df = pd.DataFrame({\n",
    "    'review': train_pos + train_neg,\n",
    "    'label': [1] * len(train_pos) + [0] * len(train_neg)\n",
    "})\n",
    "\n",
    "test_df = pd.DataFrame({\n",
    "    'review': test_pos + test_neg,\n",
    "    'label': [1] * len(test_pos) + [0] * len(test_neg)\n",
    "})\n",
    "\n",
    "print(train_df.head())"
   ]
  },
  {
   "cell_type": "markdown",
   "id": "549af2ab",
   "metadata": {},
   "source": [
    "You can ensure that your datasets have loaded correctly by running the following code cell. No output means success!"
   ]
  },
  {
   "cell_type": "code",
   "execution_count": 7,
   "id": "e7d8ae83",
   "metadata": {},
   "outputs": [],
   "source": [
    "# Assert that both datasets have the expected number of rows\n",
    "assert train_df.shape[0] == 25000, \"Training dataset does not have 25000 rows.\"\n",
    "assert test_df.shape[0] == 25000, \"Testing dataset does not have 25000 rows.\"\n",
    "\n",
    "# Assert that both datasets have exactly two columns\n",
    "assert train_df.shape[1] == 2, \"Training dataset does not have exactly 2 columns.\"\n",
    "assert test_df.shape[1] == 2, \"Testing dataset does not have exactly 2 columns.\"\n"
   ]
  },
  {
   "cell_type": "markdown",
   "id": "5d436403",
   "metadata": {},
   "source": [
    "### 2. Explore the Dataset\n",
    "Exploration helps us understand the dataset's structure and distribution.\n",
    "\n",
    "Here are some suggestions for exploration and visualizations:\n",
    "- **Dataset Overview**: Use `DataFrame.info()` and `DataFrame.describe()` to understand the dataset structure and basic statistics.\n",
    "- **Label Distribution**: Create bar charts to visualize the number of positive and negative reviews.\n",
    "- **Review Length Analysis**: Compute and plot the distribution of review lengths (e.g., number of characters or words).\n",
    "- **Sample Reviews**: Print a few positive and negative reviews to understand the text content.\n",
    "\n",
    "Write code to explore the dataset in this section."
   ]
  },
  {
   "cell_type": "code",
   "execution_count": 8,
   "id": "5ea33097",
   "metadata": {},
   "outputs": [
    {
     "name": "stdout",
     "output_type": "stream",
     "text": [
      "<class 'pandas.core.frame.DataFrame'>\n",
      "RangeIndex: 25000 entries, 0 to 24999\n",
      "Data columns (total 2 columns):\n",
      " #   Column  Non-Null Count  Dtype \n",
      "---  ------  --------------  ----- \n",
      " 0   review  25000 non-null  object\n",
      " 1   label   25000 non-null  int64 \n",
      "dtypes: int64(1), object(1)\n",
      "memory usage: 390.8+ KB\n"
     ]
    }
   ],
   "source": [
    "train_df.info()"
   ]
  },
  {
   "cell_type": "code",
   "execution_count": 9,
   "id": "4d39d7d0",
   "metadata": {},
   "outputs": [
    {
     "data": {
      "text/html": [
       "<div>\n",
       "<style scoped>\n",
       "    .dataframe tbody tr th:only-of-type {\n",
       "        vertical-align: middle;\n",
       "    }\n",
       "\n",
       "    .dataframe tbody tr th {\n",
       "        vertical-align: top;\n",
       "    }\n",
       "\n",
       "    .dataframe thead th {\n",
       "        text-align: right;\n",
       "    }\n",
       "</style>\n",
       "<table border=\"1\" class=\"dataframe\">\n",
       "  <thead>\n",
       "    <tr style=\"text-align: right;\">\n",
       "      <th></th>\n",
       "      <th>label</th>\n",
       "    </tr>\n",
       "  </thead>\n",
       "  <tbody>\n",
       "    <tr>\n",
       "      <th>count</th>\n",
       "      <td>25000.00000</td>\n",
       "    </tr>\n",
       "    <tr>\n",
       "      <th>mean</th>\n",
       "      <td>0.50000</td>\n",
       "    </tr>\n",
       "    <tr>\n",
       "      <th>std</th>\n",
       "      <td>0.50001</td>\n",
       "    </tr>\n",
       "    <tr>\n",
       "      <th>min</th>\n",
       "      <td>0.00000</td>\n",
       "    </tr>\n",
       "    <tr>\n",
       "      <th>25%</th>\n",
       "      <td>0.00000</td>\n",
       "    </tr>\n",
       "    <tr>\n",
       "      <th>50%</th>\n",
       "      <td>0.50000</td>\n",
       "    </tr>\n",
       "    <tr>\n",
       "      <th>75%</th>\n",
       "      <td>1.00000</td>\n",
       "    </tr>\n",
       "    <tr>\n",
       "      <th>max</th>\n",
       "      <td>1.00000</td>\n",
       "    </tr>\n",
       "  </tbody>\n",
       "</table>\n",
       "</div>"
      ],
      "text/plain": [
       "             label\n",
       "count  25000.00000\n",
       "mean       0.50000\n",
       "std        0.50001\n",
       "min        0.00000\n",
       "25%        0.00000\n",
       "50%        0.50000\n",
       "75%        1.00000\n",
       "max        1.00000"
      ]
     },
     "execution_count": 9,
     "metadata": {},
     "output_type": "execute_result"
    }
   ],
   "source": [
    "train_df.describe()"
   ]
  },
  {
   "cell_type": "code",
   "execution_count": 10,
   "id": "4885fb77",
   "metadata": {},
   "outputs": [
    {
     "name": "stdout",
     "output_type": "stream",
     "text": [
      "<class 'pandas.core.frame.DataFrame'>\n",
      "RangeIndex: 25000 entries, 0 to 24999\n",
      "Data columns (total 2 columns):\n",
      " #   Column  Non-Null Count  Dtype \n",
      "---  ------  --------------  ----- \n",
      " 0   review  25000 non-null  object\n",
      " 1   label   25000 non-null  int64 \n",
      "dtypes: int64(1), object(1)\n",
      "memory usage: 390.8+ KB\n"
     ]
    }
   ],
   "source": [
    "test_df.info()"
   ]
  },
  {
   "cell_type": "code",
   "execution_count": 11,
   "id": "0a1e0b5b",
   "metadata": {},
   "outputs": [
    {
     "data": {
      "text/html": [
       "<div>\n",
       "<style scoped>\n",
       "    .dataframe tbody tr th:only-of-type {\n",
       "        vertical-align: middle;\n",
       "    }\n",
       "\n",
       "    .dataframe tbody tr th {\n",
       "        vertical-align: top;\n",
       "    }\n",
       "\n",
       "    .dataframe thead th {\n",
       "        text-align: right;\n",
       "    }\n",
       "</style>\n",
       "<table border=\"1\" class=\"dataframe\">\n",
       "  <thead>\n",
       "    <tr style=\"text-align: right;\">\n",
       "      <th></th>\n",
       "      <th>label</th>\n",
       "    </tr>\n",
       "  </thead>\n",
       "  <tbody>\n",
       "    <tr>\n",
       "      <th>count</th>\n",
       "      <td>25000.00000</td>\n",
       "    </tr>\n",
       "    <tr>\n",
       "      <th>mean</th>\n",
       "      <td>0.50000</td>\n",
       "    </tr>\n",
       "    <tr>\n",
       "      <th>std</th>\n",
       "      <td>0.50001</td>\n",
       "    </tr>\n",
       "    <tr>\n",
       "      <th>min</th>\n",
       "      <td>0.00000</td>\n",
       "    </tr>\n",
       "    <tr>\n",
       "      <th>25%</th>\n",
       "      <td>0.00000</td>\n",
       "    </tr>\n",
       "    <tr>\n",
       "      <th>50%</th>\n",
       "      <td>0.50000</td>\n",
       "    </tr>\n",
       "    <tr>\n",
       "      <th>75%</th>\n",
       "      <td>1.00000</td>\n",
       "    </tr>\n",
       "    <tr>\n",
       "      <th>max</th>\n",
       "      <td>1.00000</td>\n",
       "    </tr>\n",
       "  </tbody>\n",
       "</table>\n",
       "</div>"
      ],
      "text/plain": [
       "             label\n",
       "count  25000.00000\n",
       "mean       0.50000\n",
       "std        0.50001\n",
       "min        0.00000\n",
       "25%        0.00000\n",
       "50%        0.50000\n",
       "75%        1.00000\n",
       "max        1.00000"
      ]
     },
     "execution_count": 11,
     "metadata": {},
     "output_type": "execute_result"
    }
   ],
   "source": [
    "test_df.describe()"
   ]
  },
  {
   "cell_type": "code",
   "execution_count": 12,
   "id": "8ddd2132",
   "metadata": {},
   "outputs": [
    {
     "name": "stdout",
     "output_type": "stream",
     "text": [
      "TRAIN SHAPE: (25000, 2)\n",
      "TEST  SHAPE: (25000, 2)\n",
      "\n",
      "--- train_df.info() ---\n",
      "<class 'pandas.core.frame.DataFrame'>\n",
      "RangeIndex: 25000 entries, 0 to 24999\n",
      "Data columns (total 2 columns):\n",
      " #   Column  Non-Null Count  Dtype \n",
      "---  ------  --------------  ----- \n",
      " 0   review  25000 non-null  object\n",
      " 1   label   25000 non-null  int64 \n",
      "dtypes: int64(1), object(1)\n",
      "memory usage: 390.8+ KB\n",
      "\n",
      "--- train_df.describe(include='all') ---\n",
      "                                                   review        label\n",
      "count                                               25000  25000.00000\n",
      "unique                                              24904          NaN\n",
      "top     When i got this movie free from my job, along ...          NaN\n",
      "freq                                                    3          NaN\n",
      "mean                                                  NaN      0.50000\n",
      "std                                                   NaN      0.50001\n",
      "min                                                   NaN      0.00000\n",
      "25%                                                   NaN      0.00000\n",
      "50%                                                   NaN      0.50000\n",
      "75%                                                   NaN      1.00000\n",
      "max                                                   NaN      1.00000\n",
      "\n",
      "Missing values per column:\n",
      "review    0\n",
      "label     0\n",
      "dtype: int64\n",
      "\n",
      "Label counts (0=neg, 1=pos):\n",
      "label\n",
      "0    12500\n",
      "1    12500\n",
      "Name: count, dtype: int64\n"
     ]
    },
    {
     "data": {
      "image/png": "[encoded data removed]",
      "text/plain": [
       "<Figure size 640x480 with 1 Axes>"
      ]
     },
     "metadata": {},
     "output_type": "display_data"
    },
    {
     "name": "stdout",
     "output_type": "stream",
     "text": [
      "\n",
      "Length stats by label (characters):\n",
      "         count        mean          std   min    25%    50%     75%      max\n",
      "label                                                                       \n",
      "0      12500.0  1302.97904   957.067769  52.0  709.0  976.5  1568.0   8969.0\n",
      "1      12500.0  1347.16024  1046.747365  70.0  695.0  982.0  1651.0  13704.0\n",
      "\n",
      "Length stats by label (words):\n",
      "         count       mean         std   min    25%    50%    75%     max\n",
      "label                                                                   \n",
      "0      12500.0  230.86784  166.663126  10.0  128.0  174.0  278.0  1522.0\n",
      "1      12500.0  236.70656  180.485743  12.0  125.0  174.0  291.0  2470.0\n"
     ]
    },
    {
     "data": {
      "image/png": "[encoded data removed]",
      "text/plain": [
       "<Figure size 640x480 with 1 Axes>"
      ]
     },
     "metadata": {},
     "output_type": "display_data"
    },
    {
     "data": {
      "image/png": "[encoded data removed]",
      "text/plain": [
       "<Figure size 640x480 with 1 Axes>"
      ]
     },
     "metadata": {},
     "output_type": "display_data"
    },
    {
     "data": {
      "text/plain": [
       "<Figure size 640x480 with 0 Axes>"
      ]
     },
     "metadata": {},
     "output_type": "display_data"
    },
    {
     "data": {
      "image/png": "[encoded data removed]",
      "text/plain": [
       "<Figure size 640x480 with 1 Axes>"
      ]
     },
     "metadata": {},
     "output_type": "display_data"
    },
    {
     "data": {
      "text/plain": [
       "<Figure size 640x480 with 0 Axes>"
      ]
     },
     "metadata": {},
     "output_type": "display_data"
    },
    {
     "data": {
      "image/png": "[encoded data removed]",
      "text/plain": [
       "<Figure size 640x480 with 1 Axes>"
      ]
     },
     "metadata": {},
     "output_type": "display_data"
    },
    {
     "name": "stdout",
     "output_type": "stream",
     "text": [
      "\n",
      "--- Sample 3 reviews (label=1) ---\n",
      "\n",
      "[1]  We stumbled upon the documentary, Grey Gardens, last Sunday and got \"sucked in\" without warning. Everyone who entered the room became transfixed on the television and the haunting images of Edith and Edie who seemed to be living out their lives in practically one room of a large filthy mansion on the beach, eating ice cream and corn on the cob (which was cooked on the bedside table)--and the cat urinating on edith's bed and her unbelievable words, \"i thrive on it [the smell].\" We had not seen th ...\n",
      "\n",
      "[2]  I just finished watching this movie and I must say that I was so impressed.Everything about it was superb. The acting the characters, the story. A believable child who grew into brave, always willing to help others. His mum must be proud. I could not take my eyes off this film for fear of missing something. It is the prefect fable/tale with morals, cute and scary sprites and 'monsters' but nevertheless heartwarming folk. A child poked and bullied at school who becomes a hero. Picked to be a ride ...\n",
      "\n",
      "[3]  This is a hard-boiled Warner Brothers film starring a very young Barbara Stanwyck. A consummate master at portraying Machiavellian cool, a technique she perfected eleven years later in Billy Wilder's \"Double Indemnity\", Stanwyck plays Lily Powers, the well-worn daughter of a violent speakeasy owner in a suffocating steel-town. She has been rendered cynical and numb by years of being offered up as a sexual favor to her father's customers. Once her father dies in a distillery explosion, she hops a ...\n",
      "\n",
      "--- Sample 3 reviews (label=0) ---\n",
      "\n",
      "[1]  George P. Cosmatos' \"Rambo: First Blood Part II\" is pure wish-fulfillment. The United States clearly didn't win the war in Vietnam. They caused damage to this country beyond the imaginable and this movie continues the fairy story of the oh-so innocent soldiers. The only bad guys were the leaders of the nation, who made this war happen. The character of Rambo is perfect to notice this. He is extremely patriotic, bemoans that US-Americans didn't appreciate and celebrate the achievements of the sin ...\n",
      "\n",
      "[2]  I know that the real story of Little Richard is a lot more thrilling than this maudlin and thoroughly average biopic. But then producer Little Richard was probably too reluctant to bring to light any sordid details of his life and just gave us a forgettable facsimile of his career highlights from the 50s and 60s. \n",
      "\n",
      "[3]  Mark Hamill should have felt mighty embarrassed with CORVETTE SUMMER! This time, he uses a new kind of \"force\" to regain the possession of his dream machine, a bright red 'Vette. It looks like another sour teen-age flick the first half-hour and does a U-turn in heading for the wrong direction. The writing and directing jobs are dreadfully done, with a few scenes you can't hardly take. You're expecting this to happen anyway, and you're also sniffing the smell of late-70s hodgepodge. Only a former ...\n"
     ]
    }
   ],
   "source": [
    "import pandas as pd\n",
    "import numpy as np\n",
    "import matplotlib.pyplot as plt\n",
    "\n",
    "# 1) Dataset overview\n",
    "print(\"TRAIN SHAPE:\", train_df.shape)\n",
    "print(\"TEST  SHAPE:\", test_df.shape)\n",
    "print(\"\\n--- train_df.info() ---\")\n",
    "train_df.info()\n",
    "print(\"\\n--- train_df.describe(include='all') ---\")\n",
    "print(train_df.describe(include='all'))\n",
    "print(\"\\nMissing values per column:\")\n",
    "print(train_df.isna().sum())\n",
    "\n",
    "# 2) Label distribution (train)\n",
    "label_counts = train_df['label'].value_counts().sort_index()  # 0,1\n",
    "print(\"\\nLabel counts (0=neg, 1=pos):\")\n",
    "print(label_counts)\n",
    "\n",
    "plt.figure()\n",
    "label_counts.plot(kind='bar')\n",
    "plt.title(\"Label Distribution (Train)\")\n",
    "plt.xlabel(\"Label (0=neg, 1=pos)\")\n",
    "plt.ylabel(\"Count\")\n",
    "plt.tight_layout()\n",
    "plt.show()\n",
    "\n",
    "# 3) Review length analysis\n",
    "if 'n_chars' not in train_df.columns:\n",
    "    train_df['n_chars'] = train_df['review'].astype(str).str.len()\n",
    "if 'n_words' not in train_df.columns:\n",
    "    train_df['n_words'] = train_df['review'].astype(str).str.split().str.len()\n",
    "\n",
    "print(\"\\nLength stats by label (characters):\")\n",
    "print(train_df.groupby('label')['n_chars'].describe())\n",
    "print(\"\\nLength stats by label (words):\")\n",
    "print(train_df.groupby('label')['n_words'].describe())\n",
    "\n",
    "# Histograms of lengths\n",
    "plt.figure()\n",
    "train_df['n_words'].hist(bins=50)\n",
    "plt.title(\"Histogram of Review Word Counts (Train)\")\n",
    "plt.xlabel(\"Words per review\")\n",
    "plt.ylabel(\"Frequency\")\n",
    "plt.tight_layout()\n",
    "plt.show()\n",
    "\n",
    "plt.figure()\n",
    "train_df['n_chars'].hist(bins=50)\n",
    "plt.title(\"Histogram of Review Character Counts (Train)\")\n",
    "plt.xlabel(\"Characters per review\")\n",
    "plt.ylabel(\"Frequency\")\n",
    "plt.tight_layout()\n",
    "plt.show()\n",
    "\n",
    "# Boxplots by label\n",
    "plt.figure()\n",
    "train_df.boxplot(column='n_words', by='label', grid=False)\n",
    "plt.title(\"Word Count by Label\")\n",
    "plt.suptitle(\"\")\n",
    "plt.xlabel(\"Label (0=neg, 1=pos)\")\n",
    "plt.ylabel(\"Words per review\")\n",
    "plt.tight_layout()\n",
    "plt.show()\n",
    "\n",
    "plt.figure()\n",
    "train_df.boxplot(column='n_chars', by='label', grid=False)\n",
    "plt.title(\"Character Count by Label\")\n",
    "plt.suptitle(\"\")\n",
    "plt.xlabel(\"Label (0=neg, 1=pos)\")\n",
    "plt.ylabel(\"Characters per review\")\n",
    "plt.tight_layout()\n",
    "plt.show()\n",
    "\n",
    "# 4) Sample reviews\n",
    "def show_samples(df, label, n=3, seed=42):\n",
    "    print(f\"\\n--- Sample {n} reviews (label={label}) ---\")\n",
    "    samples = df[df['label']==label].sample(n, random_state=seed)['review'].tolist()\n",
    "    for i, txt in enumerate(samples, 1):\n",
    "        print(f\"\\n[{i}] \", txt[:500], (\"...\" if len(txt) > 500 else \"\"))\n",
    "\n",
    "show_samples(train_df, label=1, n=3)  # positive\n",
    "show_samples(train_df, label=0, n=3)  # negative"
   ]
  },
  {
   "cell_type": "markdown",
   "id": "01d70008",
   "metadata": {},
   "source": [
    "### 3. Prepare the Dataset\n",
    "We will split the training data further into training and validation subsets. The way we constructed the dataset, reviews with positive and negative labels are segregated. To ensure that the validation dataset works well, we first need to shuffle the dataset.\n"
   ]
  },
  {
   "cell_type": "code",
   "execution_count": 13,
   "id": "e696ead0",
   "metadata": {},
   "outputs": [],
   "source": [
    "# Split train data into training and validation sets manually\n",
    "train_size = int(0.9 * len(train_df))\n",
    "# Shuffle the dataset\n",
    "shuffled_df = train_df.sample(frac=1, random_state=42).reset_index(drop=True)\n",
    "train_data = shuffled_df.iloc[:train_size]\n",
    "val_data = shuffled_df.iloc[train_size:]"
   ]
  },
  {
   "cell_type": "markdown",
   "id": "a1f5c258",
   "metadata": {},
   "source": [
    "### 4. Testing the Tokenizer\n",
    "\n",
    "#### Subword Tokenization\n",
    "In earlier tasks, you might have encountered character-level tokenization, where each character in the text is treated as a token. While this is straightforward, it is less efficient and may result in larger input sizes, impacting the performance of transformer models.\n",
    "\n",
    "To address this, we will use Hugging Face's `AutoTokenizer`, a robust and efficient class designed for tokenizing text based on pretrained models. Specifically, we will utilize the `bert-base-uncased` tokenizer, which applies **subword tokenization**. Subword tokenization involves two steps:\n",
    "\n",
    "1. **Subword Splitting**: Words are split into smaller components (subwords) based on a predefined vocabulary. For example:\n",
    "   - Input: \"unhappiness\"\n",
    "   - Subword Splits: `['un', 'happiness']`\n",
    "\n",
    "2. **Token Conversion**: Each subword is then converted into a numerical token ID. For example:\n",
    "   - Subword Splits: `['un', 'happiness']`\n",
    "   - Token IDs: `[1011, 24123]` (values are illustrative and depend on the tokenizer vocabulary).\n",
    "\n",
    "#### About the `bert-base-uncased` Tokenizer\n",
    "The `bert-base-uncased` tokenizer, developed by Google researchers, is part of the BERT model family. This tokenizer is associated with the `bert-base-uncased` model, which has been widely used for tasks such as sentiment analysis, question answering, and text classification. The tokenizer ensures all text is converted to lowercase and accents are removed, reducing vocabulary size and improving generalization. Example:\n",
    "\n",
    "- Input: \"I Love Transformers.\"\n",
    "- Subword Splits: `['i', 'love', 'trans', '##formers', '.']`\n",
    "\n",
    "You can learn more about the tokenizer and model on [Hugging Face's bert-base-uncased page](https://huggingface.co/bert-base-uncased).\n",
    "\n",
    "#### Using the `AutoTokenizer` Class\n",
    "The `AutoTokenizer` class in the Hugging Face Transformers library provides a seamless way to load tokenizers for various pretrained models. It automatically selects the correct tokenizer configuration based on the model name.\n"
   ]
  },
  {
   "cell_type": "code",
   "execution_count": 14,
   "id": "10071ba9",
   "metadata": {},
   "outputs": [
    {
     "name": "stderr",
     "output_type": "stream",
     "text": [
      "/opt/conda/lib/python3.10/site-packages/tqdm/auto.py:21: TqdmWarning: IProgress not found. Please update jupyter and ipywidgets. See https://ipywidgets.readthedocs.io/en/stable/user_install.html\n",
      "  from .autonotebook import tqdm as notebook_tqdm\n",
      "/opt/conda/lib/python3.10/site-packages/huggingface_hub/file_download.py:795: FutureWarning: `resume_download` is deprecated and will be removed in version 1.0.0. Downloads always resume when possible. If you want to force a new download, use `force_download=True`.\n",
      "  warnings.warn(\n"
     ]
    }
   ],
   "source": [
    "from transformers import AutoTokenizer\n",
    "\n",
    "# Initialize tokenizer\n",
    "tokenizer = AutoTokenizer.from_pretrained(\"bert-base-uncased\")"
   ]
  },
  {
   "cell_type": "markdown",
   "id": "346d1f02",
   "metadata": {},
   "source": [
    "This initializes a tokenizer tailored for the `bert-base-uncased` model. You can refer to the [Hugging Face AutoTokenizer documentation](https://huggingface.co/docs/transformers/main_classes/tokenizer) for more details. You can find the definition of the `from_pretrained()` method [here](https://huggingface.co/docs/transformers/v4.48.0/en/model_doc/auto#transformers.AutoTokenizer.from_pretrained).\n",
    "\n",
    "Instead of tokenizing the entire dataset, we will test the tokenizer on a few sample reviews directly from the dataset:\n"
   ]
  },
  {
   "cell_type": "code",
   "execution_count": 15,
   "id": "a5d749b5",
   "metadata": {},
   "outputs": [],
   "source": [
    "# Take sample inputs from the dataset\n",
    "sample_texts = train_data['review'].sample(3, random_state=42).tolist()\n",
    "\n",
    "# Tokenize sample inputs\n",
    "tokenized_samples = tokenizer(sample_texts, truncation=True, padding=\"max_length\", max_length=128, return_tensors=\"pt\")"
   ]
  },
  {
   "cell_type": "code",
   "execution_count": 16,
   "id": "18a88f50",
   "metadata": {},
   "outputs": [
    {
     "name": "stdout",
     "output_type": "stream",
     "text": [
      "{'input_ids': tensor([[  101,  2023,  2038,  2000,  2022,  2028,  1997,  1996,  2190, 22092,\n",
      "          2006,  1996,  2547,  2012,  1996,  2617,  1012,  2009,  3138,  1996,\n",
      "          5699,  2100,  1011,  4086,  2801,  1997,  1037,  2265, 24135,  2105,\n",
      "          1037,  2485,  2155,  1998,  4332,  2009,  2046,  1037,  3243, 12689,\n",
      "          2664,  6057, 15921,  1997,  1037,  5171,  2155,  3143,  2007, 22941,\n",
      "          1998,  6687, 14690,  2015,  1010, 28557,  3428,  1010,  2058,  1011,\n",
      "          9474, 11397,  1998, 12170, 13344,  5208,  1012,  1045,  1005,  1049,\n",
      "          2471,  4527,  2009,  1005,  1055,  6373,   999,  1026,  7987,  1013,\n",
      "          1028,  1026,  7987,  1013,  1028,  2000,  2049,  4923,  1010,  1005,\n",
      "          1022,  3722,  3513,  1005,  4282,  2009,  1005,  1055,  1037,  4038,\n",
      "          1998,  2987,  1005,  1056,  3046,  2000,  2022,  2062,  1012,  2205,\n",
      "          2116,  3065,  1006,  1041,  2290,  1010,  1005,  2905,  1010,  2905,\n",
      "          1005,  1998,  1005, 15860, 23872,  1005,  1007,   102],\n",
      "        [  101,  2087,  2111,  2040,  5252,  2044,  5691,  3794, 14166, 21642,\n",
      "          7140,  4025,  2000,  2025,  3305,  2008, 25285,  2001,  1037,  2839,\n",
      "          1011,  2009,  2003,  2025,  2428, 14166, 21642,  7140,  1005,  1055,\n",
      "          2613,  2166,  6180,  1010,  6516,  1010,  2296,  3185,  2016,  2112,\n",
      "         20060,  1999,  2003,  2025,  2183,  2000,  2022, 25285,  2112,  1016,\n",
      "          1010,  2112,  1017,  1010,  4385,  1012,  1026,  7987,  1013,  1028,\n",
      "          1026,  7987,  1013,  1028,  2085,  2007,  2008,  2056,  1010,  1045,\n",
      "          2205,  3856,  2039,  2023,  3185,  3432,  2138, 14166,  2001,  1999,\n",
      "          2009,  1012,  2748,  1010,  2009,  1005,  1055,  2995,  1010,  2045,\n",
      "          2003,  1037,  2502,  6578,  2044,  1996,  2034,  3496,  2073,  2016,\n",
      "          3475,  1005,  1056,  2464,  2012,  2035,  2005,  2672,  3429,  8117,\n",
      "          1010,  2021,  1045,  2134,  1005,  1056,  2130,  3335,  2014,  2138,\n",
      "          1045,  2001,  2383,  2061,  2172,  4569,  2007,   102],\n",
      "        [  101,  1996,  4989,  1997, 20016, 13498,  5643,  2000,  4685,  1996,\n",
      "         10191,  2011, 14916,  4890,  5292, 19403,  2003,  4012,  3549, 20782,\n",
      "          2144, 13498,  5643,  2003,  2008,  4066,  1997,  7823,  1998, 13675,\n",
      "          8490,  6292,  2711,  2040,  2018,  3041, 10155,  1996,  2128, 24871,\n",
      "          8740,  2850, 18436,  2135, 22979, 15240,  2000,  1996,  3494,  1997,\n",
      "          6857, 28352,  3676,  2080,  1998,  8223,  5092,  1012,  2021,  2000,\n",
      "         12826,  3280,  2524,  2186,  2007,  7656, 18003,  2121,  2003,  1037,\n",
      "          2521,  1011, 18584,  2098,  9366,  1012,  1026,  7987,  1013,  1028,\n",
      "          1026,  7987,  1013,  1028,  1996,  6581,  2135, 19275,  3098,  3496,\n",
      "         13999,  1996,  4378,  2000,  1996, 16959,  1010, 23873,  1998, 20014,\n",
      "         27611,  2029,  2003,  2183,  2000, 25540, 21007,  2068,  1999,  1996,\n",
      "         13831,  6703,  1998,  2566, 22360,  2271,  8087,  2007,  1996, 23107,\n",
      "          1012,  1996,  2002,  2923,  1998,  1996,  2152,   102]]), 'token_type_ids': tensor([[0, 0, 0, 0, 0, 0, 0, 0, 0, 0, 0, 0, 0, 0, 0, 0, 0, 0, 0, 0, 0, 0, 0, 0,\n",
      "         0, 0, 0, 0, 0, 0, 0, 0, 0, 0, 0, 0, 0, 0, 0, 0, 0, 0, 0, 0, 0, 0, 0, 0,\n",
      "         0, 0, 0, 0, 0, 0, 0, 0, 0, 0, 0, 0, 0, 0, 0, 0, 0, 0, 0, 0, 0, 0, 0, 0,\n",
      "         0, 0, 0, 0, 0, 0, 0, 0, 0, 0, 0, 0, 0, 0, 0, 0, 0, 0, 0, 0, 0, 0, 0, 0,\n",
      "         0, 0, 0, 0, 0, 0, 0, 0, 0, 0, 0, 0, 0, 0, 0, 0, 0, 0, 0, 0, 0, 0, 0, 0,\n",
      "         0, 0, 0, 0, 0, 0, 0, 0],\n",
      "        [0, 0, 0, 0, 0, 0, 0, 0, 0, 0, 0, 0, 0, 0, 0, 0, 0, 0, 0, 0, 0, 0, 0, 0,\n",
      "         0, 0, 0, 0, 0, 0, 0, 0, 0, 0, 0, 0, 0, 0, 0, 0, 0, 0, 0, 0, 0, 0, 0, 0,\n",
      "         0, 0, 0, 0, 0, 0, 0, 0, 0, 0, 0, 0, 0, 0, 0, 0, 0, 0, 0, 0, 0, 0, 0, 0,\n",
      "         0, 0, 0, 0, 0, 0, 0, 0, 0, 0, 0, 0, 0, 0, 0, 0, 0, 0, 0, 0, 0, 0, 0, 0,\n",
      "         0, 0, 0, 0, 0, 0, 0, 0, 0, 0, 0, 0, 0, 0, 0, 0, 0, 0, 0, 0, 0, 0, 0, 0,\n",
      "         0, 0, 0, 0, 0, 0, 0, 0],\n",
      "        [0, 0, 0, 0, 0, 0, 0, 0, 0, 0, 0, 0, 0, 0, 0, 0, 0, 0, 0, 0, 0, 0, 0, 0,\n",
      "         0, 0, 0, 0, 0, 0, 0, 0, 0, 0, 0, 0, 0, 0, 0, 0, 0, 0, 0, 0, 0, 0, 0, 0,\n",
      "         0, 0, 0, 0, 0, 0, 0, 0, 0, 0, 0, 0, 0, 0, 0, 0, 0, 0, 0, 0, 0, 0, 0, 0,\n",
      "         0, 0, 0, 0, 0, 0, 0, 0, 0, 0, 0, 0, 0, 0, 0, 0, 0, 0, 0, 0, 0, 0, 0, 0,\n",
      "         0, 0, 0, 0, 0, 0, 0, 0, 0, 0, 0, 0, 0, 0, 0, 0, 0, 0, 0, 0, 0, 0, 0, 0,\n",
      "         0, 0, 0, 0, 0, 0, 0, 0]]), 'attention_mask': tensor([[1, 1, 1, 1, 1, 1, 1, 1, 1, 1, 1, 1, 1, 1, 1, 1, 1, 1, 1, 1, 1, 1, 1, 1,\n",
      "         1, 1, 1, 1, 1, 1, 1, 1, 1, 1, 1, 1, 1, 1, 1, 1, 1, 1, 1, 1, 1, 1, 1, 1,\n",
      "         1, 1, 1, 1, 1, 1, 1, 1, 1, 1, 1, 1, 1, 1, 1, 1, 1, 1, 1, 1, 1, 1, 1, 1,\n",
      "         1, 1, 1, 1, 1, 1, 1, 1, 1, 1, 1, 1, 1, 1, 1, 1, 1, 1, 1, 1, 1, 1, 1, 1,\n",
      "         1, 1, 1, 1, 1, 1, 1, 1, 1, 1, 1, 1, 1, 1, 1, 1, 1, 1, 1, 1, 1, 1, 1, 1,\n",
      "         1, 1, 1, 1, 1, 1, 1, 1],\n",
      "        [1, 1, 1, 1, 1, 1, 1, 1, 1, 1, 1, 1, 1, 1, 1, 1, 1, 1, 1, 1, 1, 1, 1, 1,\n",
      "         1, 1, 1, 1, 1, 1, 1, 1, 1, 1, 1, 1, 1, 1, 1, 1, 1, 1, 1, 1, 1, 1, 1, 1,\n",
      "         1, 1, 1, 1, 1, 1, 1, 1, 1, 1, 1, 1, 1, 1, 1, 1, 1, 1, 1, 1, 1, 1, 1, 1,\n",
      "         1, 1, 1, 1, 1, 1, 1, 1, 1, 1, 1, 1, 1, 1, 1, 1, 1, 1, 1, 1, 1, 1, 1, 1,\n",
      "         1, 1, 1, 1, 1, 1, 1, 1, 1, 1, 1, 1, 1, 1, 1, 1, 1, 1, 1, 1, 1, 1, 1, 1,\n",
      "         1, 1, 1, 1, 1, 1, 1, 1],\n",
      "        [1, 1, 1, 1, 1, 1, 1, 1, 1, 1, 1, 1, 1, 1, 1, 1, 1, 1, 1, 1, 1, 1, 1, 1,\n",
      "         1, 1, 1, 1, 1, 1, 1, 1, 1, 1, 1, 1, 1, 1, 1, 1, 1, 1, 1, 1, 1, 1, 1, 1,\n",
      "         1, 1, 1, 1, 1, 1, 1, 1, 1, 1, 1, 1, 1, 1, 1, 1, 1, 1, 1, 1, 1, 1, 1, 1,\n",
      "         1, 1, 1, 1, 1, 1, 1, 1, 1, 1, 1, 1, 1, 1, 1, 1, 1, 1, 1, 1, 1, 1, 1, 1,\n",
      "         1, 1, 1, 1, 1, 1, 1, 1, 1, 1, 1, 1, 1, 1, 1, 1, 1, 1, 1, 1, 1, 1, 1, 1,\n",
      "         1, 1, 1, 1, 1, 1, 1, 1]])}\n"
     ]
    }
   ],
   "source": [
    "print(tokenized_samples)"
   ]
  },
  {
   "cell_type": "markdown",
   "id": "0f5a2d16",
   "metadata": {},
   "source": [
    "Explanation of parameters:\n",
    " - `truncation=True`: Truncates text longer than the specified max_length.\n",
    " - `padding=True`: Pads shorter sequences to match max_length.\n",
    " - `max_length=128`: Specifies the maximum length of the sequences.\n",
    " - `return_tensors=\"pt\"`: Returns PyTorch tensors as the output format.\n",
    " \n",
    "For more details about truncation and padding, refer to the [Hugging Face Padding and Truncation Documentation](https://huggingface.co/docs/transformers/pad_truncation). This step ensures that the tokenizer works as expected and provides insight into its behavior. Next, we will use the tokenizer within the class definition to process the dataset.\n",
    "\n",
    "---\n"
   ]
  },
  {
   "cell_type": "markdown",
   "id": "ca2ca44c",
   "metadata": {},
   "source": [
    "# Implement a DataLoader in PyTorch<a id=\"implement-a-dataloader-in-pytorch\"></a>\n",
    "\n",
    "\n",
    "In this section, you will implement a custom dataset class and use it to create a DataLoader in PyTorch for feeding data into the model during training. PyTorch simplifies this process by providing the `Dataset` and `DataLoader` classes, which handle batching, shuffling, and preprocessing, allowing you to focus on the model architecture and training.\n",
    "\n",
    "To start, we will create a custom dataset class for the IMDB dataset, which will process and return tokenized inputs along with their corresponding labels. This class will use a tokenizer to preprocess the raw text data.\n",
    "\n",
    "### 1. Define a Custom Dataset Class\n",
    "\n",
    "The custom dataset class will inherit from `torch.utils.data.Dataset` and include the following features:\n",
    "\n",
    "1. **Initialization (`__init__`)**:\n",
    "   - Accepts raw text and label data, along with a tokenizer and a maximum sequence length.\n",
    "   - The tokenizer is used to preprocess the text data into tokenized inputs.\n",
    "   - The maximum sequence length ensures that all tokenized inputs are of uniform length.\n",
    "\n",
    "2. **Length (`__len__`)**:\n",
    "   - Returns the total number of data samples in the dataset.\n",
    "\n",
    "3. **Item Retrieval (`__getitem__`)**:\n",
    "   - Retrieves a single data point by index.\n",
    "   - Preprocesses the text using the tokenizer to create tokenized input IDs.\n",
    "   - Returns the tokenized input IDs and the corresponding label for the given index.\n",
    "\n",
    "You can refer to [this](https://pytorch.org/tutorials/beginner/basics/data_tutorial.html) tutorial on the Pytorch website for more details.\n"
   ]
  },
  {
   "cell_type": "code",
   "execution_count": 17,
   "id": "6a9bb55a",
   "metadata": {},
   "outputs": [
    {
     "name": "stdout",
     "output_type": "stream",
     "text": [
      "Using device: cuda\n"
     ]
    }
   ],
   "source": [
    "import torch\n",
    "from torch.utils.data import Dataset\n",
    "MAX_LENGTH = 256\n",
    "\n",
    "device = torch.device(\"cuda\" if torch.cuda.is_available() else \"cpu\")\n",
    "print(\"Using device:\", device)"
   ]
  },
  {
   "cell_type": "markdown",
   "id": "7c4da99b",
   "metadata": {},
   "source": [
    "**NOTE ABOUT GPU USAGE**\n",
    "\n",
    "The workspace provides you with access to a GPU which is necessary for training a transformer model due to the efficiency provided by GPUs on the large amount of computations that are required. To ensure judicious usage of limited resources, please usage the GPU only when you are training the model. \n",
    "\n",
    "---\n",
    "We will keep the maximum length of input to 128 tokens."
   ]
  },
  {
   "cell_type": "code",
   "execution_count": 18,
   "id": "6976b570",
   "metadata": {},
   "outputs": [],
   "source": [
    "from torch.utils.data import Dataset\n",
    "\n",
    "class IMDBDataset(Dataset):\n",
    "    \"\"\"\n",
    "    A custom PyTorch Dataset for the IMDB dataset.\n",
    "\n",
    "    This class preprocesses text data using a tokenizer and returns tokenized inputs\n",
    "    along with their corresponding labels for sentiment analysis.\n",
    "\n",
    "    Attributes:\n",
    "        data (pd.DataFrame): A DataFrame containing text and label columns.\n",
    "        tokenizer (transformers.PreTrainedTokenizer): The tokenizer used for preprocessing text.\n",
    "        max_length (int): Maximum length for tokenized sequences.\n",
    "    \"\"\"\n",
    "    def __init__(self, data, tokenizer, max_length=MAX_LENGTH):\n",
    "        \"\"\"\n",
    "        Initialize the dataset.\n",
    "\n",
    "        Args:\n",
    "            data (pd.DataFrame): A DataFrame with columns `review` (text) and `label` (target).\n",
    "            tokenizer (transformers.PreTrainedTokenizer): The tokenizer to preprocess the text.\n",
    "            max_length (int, optional): Maximum token sequence length. Defaults to 128.\n",
    "        \"\"\"\n",
    "        #TODO: Write code to initialize the dataset\n",
    "         \n",
    "        self.data = data.reset_index(drop=True)\n",
    "        self.tokenizer = tokenizer\n",
    "        self.max_length = max_length\n",
    "\n",
    "    def __len__(self):\n",
    "        \"\"\"\n",
    "        Return the total number of samples in the dataset.\n",
    "\n",
    "        Returns:\n",
    "            int: Number of samples.\n",
    "        \"\"\"\n",
    "        #TODO: Write code to return the length of the dataset\n",
    "        return len(self.data)\n",
    "\n",
    "    def __getitem__(self, idx):\n",
    "        \"\"\"\n",
    "        Retrieve a single data point by index and preprocess it.\n",
    "\n",
    "        Args:\n",
    "            idx (int): Index of the data point to retrieve.\n",
    "\n",
    "        Returns:\n",
    "            torch.Tensor: Tokenized input IDs for the text.\n",
    "            int: Label corresponding to the text.\n",
    "        \"\"\"\n",
    "        #TODO: Write code for the __getitem__() function\n",
    "        text  = self.data.loc[idx, 'review']\n",
    "        label = int(self.data.loc[idx, 'label'])\n",
    "        enc = self.tokenizer(\n",
    "            text,\n",
    "            truncation=True,\n",
    "            padding='max_length',\n",
    "            max_length=self.max_length,\n",
    "            return_tensors='pt'\n",
    "        )\n",
    "        input_ids = enc['input_ids'].squeeze(0)  # (T,)\n",
    "        return input_ids, label"
   ]
  },
  {
   "cell_type": "markdown",
   "id": "0fc972e9",
   "metadata": {},
   "source": [
    "### 2. Initialize the Dataset\n",
    "\n",
    "Once the `IMDBDataset` class is defined, we can initialize it directly with the training and validation DataFrames."
   ]
  },
  {
   "cell_type": "code",
   "execution_count": 19,
   "id": "a44edbf0",
   "metadata": {},
   "outputs": [],
   "source": [
    "# Initialize the datasets\n",
    "train_dataset = IMDBDataset(train_data, tokenizer)\n",
    "val_dataset = IMDBDataset(val_data, tokenizer)\n",
    "test_dataset = IMDBDataset(test_df, tokenizer)"
   ]
  },
  {
   "cell_type": "markdown",
   "id": "7b29f274",
   "metadata": {},
   "source": [
    "### 3. Create a DataLoader\n",
    "\n",
    "The `DataLoader` class in PyTorch helps manage batches of data during training. We will use it to create training and validation data loaders."
   ]
  },
  {
   "cell_type": "code",
   "execution_count": 20,
   "id": "bc21e582",
   "metadata": {},
   "outputs": [],
   "source": [
    "from torch.utils.data import DataLoader\n",
    "\n",
    "# Define batch size\n",
    "BATCH_SIZE = 64 #32\n",
    "\n",
    "# Create DataLoader instances\n",
    "train_loader = DataLoader(train_dataset, batch_size=BATCH_SIZE, shuffle=True)\n",
    "val_loader = DataLoader(val_dataset, batch_size=BATCH_SIZE, shuffle=False)\n",
    "test_loader = DataLoader(test_dataset, batch_size=BATCH_SIZE, shuffle=False)"
   ]
  },
  {
   "cell_type": "markdown",
   "id": "e600f797",
   "metadata": {},
   "source": [
    "\n",
    "You may have seen the use of `RandomShuffler` along with `DataLoader`. That approach is used when you want to train a model over a dataset randomly for a specified number of steps. In this model, we want to use the epoch approach.\n",
    "\n",
    "An **epoch** is one complete pass through the entire dataset. When using the `DataLoader` in this setup, it ensures that every data point in the dataset is used exactly once during a single epoch. This approach is helpful for training models in a structured manner, ensuring that the model sees all the training examples and learns from them in each epoch before moving to the next one.\n",
    "\n",
    "By setting `shuffle=True` for the `train_loader`, the data points are randomly shuffled at the start of each epoch, improving the generalization of the model. You will see this in action later in the code for training the model.\n",
    "\n",
    "---\n",
    "Given below are some assert statements to check your custom dataset and data loader definitions."
   ]
  },
  {
   "cell_type": "code",
   "execution_count": 21,
   "id": "eac2f3ea",
   "metadata": {},
   "outputs": [],
   "source": [
    "assert len(train_dataset) == 22500, \"Train dataset length mismatch!\"\n",
    "assert len(val_dataset) == 2500, \"Validation dataset length mismatch!\"\n",
    "assert len(test_dataset) == 25000, \"Test dataset length mismatch!\"\n",
    "\n",
    "import numpy as np\n",
    "\n",
    "# Check the first item in the train dataset\n",
    "input_ids, label = train_dataset[0]\n",
    "assert isinstance(input_ids, torch.Tensor), \"Input IDs should be a torch.Tensor!\"\n",
    "assert isinstance(label, (int, np.integer)), \"Label should be an integer or int-like!\"\n",
    "\n",
    "# Ensure the input IDs tensor has the correct shape\n",
    "assert input_ids.shape[0] == train_dataset.max_length, \"Input IDs tensor has incorrect length!\""
   ]
  },
  {
   "cell_type": "markdown",
   "id": "0c0b7cad",
   "metadata": {},
   "source": [
    "## <a id=\"customize-the-transformer-architecture\"></a>Customize the Transformer Architecture\n",
    "\n",
    "In this section, you will customize the transformer architecture to suit the task of binary classification. You may have used a similar architecture in the past for generation tasks. But you will need to make a few tweaks specifically in the `DemoGPT` class to adapt it for the binary classification.\n",
    "\n",
    "### 1. Config Dictionary\n",
    "Your config dictionary bundles all hyperparameters and model settings in one place. Below is the config that we will use in our model:"
   ]
  },
  {
   "cell_type": "code",
   "execution_count": 22,
   "id": "839a72c4",
   "metadata": {},
   "outputs": [],
   "source": [
    "config = {\n",
    "    \"vocabulary_size\": tokenizer.vocab_size,  # e.g., ~30522 for bert-base-uncased\n",
    "    \"num_classes\": 2,                         # binary classification (pos/neg)\n",
    "    \"d_embed\": 384,\n",
    "    \"context_size\": MAX_LENGTH,\n",
    "    \"layers_num\": 6,\n",
    "    \"heads_num\": 6,\n",
    "    \"head_size\": 64,  # 4 heads * 32 = 128 -> matches d_embed\n",
    "    \"dropout_rate\": 0.1,\n",
    "    \"use_bias\": True\n",
    "}"
   ]
  },
  {
   "cell_type": "markdown",
   "id": "550ea474",
   "metadata": {},
   "source": [
    "Key Config Parameters:\n",
    "- `vocabulary_size`: The total number of tokens in your vocabulary.\n",
    "- `num_classes`: The number of classes for the classification head (2 = binary).\n",
    "- `d_embed`: Dimensionality of embeddings (and hidden layers).\n",
    "- `context_size`: Maximum sequence length for each input.\n",
    "- `layers_num`: Number of stacked transformer blocks.\n",
    "- `heads_num`: Number of attention heads in multi-head attention.\n",
    "- `head_size`: Dimension of each attention head (must satisfy heads_num * head_size = d_embed).\n",
    "- `dropout_rate`: Probability of dropping units during training to reduce overfitting.\n",
    "- `use_bias`: Whether linear layers should have bias terms.\n"
   ]
  },
  {
   "cell_type": "markdown",
   "id": "e497450a",
   "metadata": {},
   "source": [
    "\n",
    "### 2. Class Definitions\n",
    "\n",
    "Below are the class definitions you will work with. These classes form the core components of the transformer model. You may have seen these before, with the exception of the `DemoGPT` class which will need to be customized.\n",
    "\n",
    "\n",
    "#### AttentionHead"
   ]
  },
  {
   "cell_type": "code",
   "execution_count": 23,
   "id": "77c51747",
   "metadata": {},
   "outputs": [],
   "source": [
    "import torch.nn as nn\n",
    "import math\n",
    "\n",
    "class AttentionHead(nn.Module):\n",
    "    def __init__(self, config):\n",
    "        super().__init__()\n",
    "        self.Q_weights = nn.Linear(config[\"d_embed\"], config[\"head_size\"], bias=config[\"use_bias\"])\n",
    "        self.K_weights = nn.Linear(config[\"d_embed\"], config[\"head_size\"], bias=config[\"use_bias\"])\n",
    "        self.V_weights = nn.Linear(config[\"d_embed\"], config[\"head_size\"], bias=config[\"use_bias\"])\n",
    "\n",
    "        self.dropout = nn.Dropout(config[\"dropout_rate\"])\n",
    "\n",
    "        casual_attention_mask = torch.tril(torch.ones(config[\"context_size\"], config[\"context_size\"]))\n",
    "        self.register_buffer('casual_attention_mask', casual_attention_mask)\n",
    "\n",
    "    def forward(self, input):\n",
    "        batch_size, tokens_num, d_embed = input.shape\n",
    "        Q = self.Q_weights(input)  # (B, T, head_size)\n",
    "        K = self.K_weights(input)  # (B, T, head_size)\n",
    "        V = self.V_weights(input)  # (B, T, head_size)\n",
    "\n",
    "        # Q @ K^T => (B, T, T)\n",
    "        attention_scores = Q @ K.transpose(1, 2)\n",
    "\n",
    "        # Casual Mask\n",
    "        attention_scores = attention_scores.masked_fill(\n",
    "            self.casual_attention_mask[:tokens_num, :tokens_num] == 0,\n",
    "            float('-inf')\n",
    "        )\n",
    "        attention_scores = attention_scores / math.sqrt(K.shape[-1])\n",
    "        attention_scores = torch.softmax(attention_scores, dim=-1)\n",
    "        attention_scores = self.dropout(attention_scores)\n",
    "\n",
    "        return attention_scores @ V"
   ]
  },
  {
   "cell_type": "markdown",
   "id": "7a901a4d",
   "metadata": {},
   "source": [
    "Here we use a dummy input aligned with our config:\n",
    "\n",
    "- Batch size = `BATCH_SIZE` (32)\n",
    "- Sequence length = `config[\"context_size\"]` (128)\n",
    "- Embedding dimension = `config[\"d_embed\"]` (128)\n"
   ]
  },
  {
   "cell_type": "code",
   "execution_count": 24,
   "id": "15dd4a45",
   "metadata": {},
   "outputs": [
    {
     "name": "stdout",
     "output_type": "stream",
     "text": [
      "AttentionHead output shape: torch.Size([64, 256, 64])\n"
     ]
    }
   ],
   "source": [
    "# Instantiate the AttentionHead\n",
    "attention_head = AttentionHead(config).to(device)\n",
    "\n",
    "# Create a dummy input of shape (32, 128, 128)\n",
    "dummy_input = torch.randn(BATCH_SIZE, config[\"context_size\"], config[\"d_embed\"]).to(device)\n",
    "\n",
    "# Forward pass\n",
    "attention_output = attention_head(dummy_input)\n",
    "print(\"AttentionHead output shape:\", attention_output.shape)"
   ]
  },
  {
   "cell_type": "markdown",
   "id": "2c1b5fb2",
   "metadata": {},
   "source": [
    "Expected shape:\n",
    "\n",
    ">`(B,T,head_size)=(32,128,32)`\n",
    "\n",
    "#### MultiHeadAttention\n"
   ]
  },
  {
   "cell_type": "code",
   "execution_count": 25,
   "id": "b3411a99",
   "metadata": {},
   "outputs": [],
   "source": [
    "class MultiHeadAttention(nn.Module):\n",
    "    def __init__(self, config):\n",
    "        super().__init__()\n",
    "        heads_list = [AttentionHead(config) for _ in range(config[\"heads_num\"])]\n",
    "        self.heads = nn.ModuleList(heads_list)\n",
    "\n",
    "        self.linear = nn.Linear(config[\"heads_num\"] * config[\"head_size\"], config[\"d_embed\"])\n",
    "        self.dropout = nn.Dropout(config[\"dropout_rate\"])\n",
    "\n",
    "    def forward(self, input):\n",
    "        heads_outputs = [head(input) for head in self.heads]\n",
    "        x = torch.cat(heads_outputs, dim=-1)  # (B, T, heads_num * head_size)\n",
    "        x = self.linear(x)                   # (B, T, d_embed)\n",
    "        x = self.dropout(x)\n",
    "        return x"
   ]
  },
  {
   "cell_type": "code",
   "execution_count": 26,
   "id": "8acb2f88",
   "metadata": {},
   "outputs": [
    {
     "name": "stdout",
     "output_type": "stream",
     "text": [
      "MultiHeadAttention output shape: torch.Size([64, 256, 384])\n"
     ]
    }
   ],
   "source": [
    "# Instantiate MultiHeadAttention\n",
    "multi_head_attention = MultiHeadAttention(config).to(device)\n",
    "\n",
    "# Same dummy input: (32, 128, 128)\n",
    "dummy_input = torch.randn(BATCH_SIZE, config[\"context_size\"], config[\"d_embed\"]).to(device)\n",
    "\n",
    "# Forward pass\n",
    "mha_output = multi_head_attention(dummy_input)\n",
    "print(\"MultiHeadAttention output shape:\", mha_output.shape)"
   ]
  },
  {
   "cell_type": "markdown",
   "id": "d3f945a8",
   "metadata": {},
   "source": [
    "Expected shape:\n",
    "\n",
    ">`(B,T,d_embed)=(32,128,128)`\n",
    "\n",
    "#### FeedForward\n"
   ]
  },
  {
   "cell_type": "code",
   "execution_count": 27,
   "id": "d5617365",
   "metadata": {},
   "outputs": [],
   "source": [
    "class FeedForward(nn.Module):\n",
    "    def __init__(self, config):\n",
    "        super().__init__()\n",
    "        self.linear_layers = nn.Sequential(\n",
    "            nn.Linear(config[\"d_embed\"], 4 * config[\"d_embed\"]),\n",
    "            nn.GELU(),\n",
    "            nn.Linear(4 * config[\"d_embed\"], config[\"d_embed\"]),\n",
    "            nn.Dropout(config[\"dropout_rate\"])\n",
    "        )\n",
    "\n",
    "    def forward(self, input):\n",
    "        return self.linear_layers(input)"
   ]
  },
  {
   "cell_type": "code",
   "execution_count": 28,
   "id": "f8071288",
   "metadata": {},
   "outputs": [
    {
     "name": "stdout",
     "output_type": "stream",
     "text": [
      "FeedForward output shape: torch.Size([64, 256, 384])\n"
     ]
    }
   ],
   "source": [
    "# Instantiate FeedForward\n",
    "feed_forward = FeedForward(config).to(device)\n",
    "\n",
    "# Dummy input: (32, 128, 128)\n",
    "dummy_input = torch.randn(BATCH_SIZE, config[\"context_size\"], config[\"d_embed\"]).to(device)\n",
    "\n",
    "# Forward pass\n",
    "ff_output = feed_forward(dummy_input)\n",
    "print(\"FeedForward output shape:\", ff_output.shape)"
   ]
  },
  {
   "cell_type": "markdown",
   "id": "4dd023d0",
   "metadata": {},
   "source": [
    "Expected shape:\n",
    "\n",
    ">`(B,T,d_embed)=(32,128,128)`\n",
    "\n",
    "#### Block\n"
   ]
  },
  {
   "cell_type": "code",
   "execution_count": 29,
   "id": "19fac2f9",
   "metadata": {},
   "outputs": [],
   "source": [
    "class Block(nn.Module):\n",
    "    def __init__(self, config):\n",
    "        super().__init__()\n",
    "\n",
    "        self.multi_head = MultiHeadAttention(config)\n",
    "        self.layer_norm_1 = nn.LayerNorm(config[\"d_embed\"])\n",
    "\n",
    "        self.feed_forward = FeedForward(config)\n",
    "        self.layer_norm_2 = nn.LayerNorm(config[\"d_embed\"])\n",
    "\n",
    "    def forward(self, input):\n",
    "        x = input\n",
    "        x = x + self.multi_head(self.layer_norm_1(x))\n",
    "        x = x + self.feed_forward(self.layer_norm_2(x))\n",
    "        return x"
   ]
  },
  {
   "cell_type": "code",
   "execution_count": 30,
   "id": "ba526a3f",
   "metadata": {},
   "outputs": [
    {
     "name": "stdout",
     "output_type": "stream",
     "text": [
      "Block output shape: torch.Size([64, 256, 384])\n"
     ]
    }
   ],
   "source": [
    "# Instantiate a single Block\n",
    "block = Block(config).to(device)\n",
    "\n",
    "# Dummy input: (32, 128, 128)\n",
    "dummy_input = torch.randn(BATCH_SIZE, config[\"context_size\"], config[\"d_embed\"]).to(device)\n",
    "\n",
    "# Forward pass\n",
    "block_output = block(dummy_input)\n",
    "print(\"Block output shape:\", block_output.shape)"
   ]
  },
  {
   "cell_type": "markdown",
   "id": "76658b88",
   "metadata": {},
   "source": [
    "Expected shape:\n",
    "\n",
    ">`(B,T,d_embed)=(32,128,128)`\n",
    "\n",
    "#### DemoGPT\n",
    "Below is the starter code for the `DemoGPT` class, which implements the core of a transformer model tailored for a binary classification task. This implementation builds on the foundation of a transformer architecture and includes the necessary modifications to adapt it for classification. \n",
    "\n",
    "### Key Changes for Binary Classification\n",
    "\n",
    "To adapt the transformer for classification, the following changes are required:\n",
    "\n",
    "1. **Add a Classification-Specific Output Layer**:\n",
    "   - The model needs a linear layer to map the final pooled embeddings to the number of classes. \n",
    "   - The classification head is implemented using [`torch.nn.Linear`](https://pytorch.org/docs/stable/generated/torch.nn.Linear.html) with:\n",
    "     - `in_features` set to `d_embed` (the embedding dimension).\n",
    "     - `out_features` set to `num_classes` (the number of classes, 2 for binary classification).\n",
    "     - `bias` set to `False` (optional; bias can be excluded to slightly simplify computations).\n",
    "\n",
    "\n",
    "2. **Implement a Pooling Mechanism**:\n",
    "\n",
    "   - Transformers output embeddings for each token in the input sequence. For classification, these token-level embeddings need to be condensed into a single vector.\n",
    "\n",
    "   - A **mean pooling operation** is applied using [`torch.mean`](https://pytorch.org/docs/stable/generated/torch.mean.html) across the time dimension (`dim=1`) to aggregate token-level embeddings into a single representation vector."
   ]
  },
  {
   "cell_type": "code",
   "execution_count": 31,
   "id": "80a79d7e",
   "metadata": {},
   "outputs": [],
   "source": [
    "class DemoGPT(nn.Module):\n",
    "    def __init__(self, config):\n",
    "        \"\"\"\n",
    "        Initialize the DemoGPT class with configuration parameters.\n",
    "\n",
    "        Args:\n",
    "        - config (dict): Configuration dictionary with the following keys:\n",
    "            - \"vocabulary_size\": Size of the vocabulary.\n",
    "            - \"d_embed\": Dimensionality of the embedding vectors.\n",
    "            - \"context_size\": Maximum sequence length (context size).\n",
    "            - \"layers_num\": Number of transformer layers.\n",
    "            - \"num_classes\": Number of output classes (2 for binary classification).\n",
    "        \"\"\"\n",
    "        super().__init__()\n",
    "        # Token embedding layer: Maps token indices to embedding vectors.\n",
    "        self.token_embedding_layer = nn.Embedding(config[\"vocabulary_size\"], config[\"d_embed\"])\n",
    "        \n",
    "        # Positional embedding layer: Adds positional information to the embeddings.\n",
    "        self.positional_embedding_layer = nn.Embedding(config[\"context_size\"], config[\"d_embed\"])\n",
    "        \n",
    "        # Transformer layers: Stacked sequence of transformer blocks.\n",
    "        blocks = [Block(config) for _ in range(config[\"layers_num\"])]\n",
    "        self.layers = nn.Sequential(*blocks)\n",
    "        \n",
    "        # Layer normalization: Applied to stabilize training.\n",
    "        self.layer_norm = nn.LayerNorm(config[\"d_embed\"])\n",
    "        \n",
    "        # TODO: Implement classification output layer - Maps pooled embeddings to class logits.\n",
    "        self.classifier = nn.Linear(config[\"d_embed\"], config[\"num_classes\"], bias=False)\n",
    "        \n",
    "    def forward(self, token_ids):\n",
    "        \"\"\"\n",
    "        Forward pass of the model.\n",
    "\n",
    "        Args:\n",
    "        - token_ids (torch.Tensor): Input token indices of shape (B, T), \n",
    "                                    where B is the batch size, and T is the sequence length.\n",
    "        \n",
    "        Returns:\n",
    "        - logits (torch.Tensor): Output logits of shape (B, num_classes).\n",
    "        \"\"\"\n",
    "        batch_size, tokens_num = token_ids.shape\n",
    "\n",
    "        # Step 1: Create embeddings for tokens and their positions\n",
    "        x = self.token_embedding_layer(token_ids)  # Shape: (B, T, d_embed)\n",
    "        positions = torch.arange(tokens_num, device=token_ids.device)  # Shape: (T,)\n",
    "        pos_embed = self.positional_embedding_layer(positions)  # Shape: (T, d_embed)\n",
    "        x = x + pos_embed.unsqueeze(0)  # Add positional embeddings to token embeddings\n",
    "        \n",
    "        # Step 2: Pass embeddings through transformer layers\n",
    "        x = self.layers(x)  # Shape: (B, T, d_embed)\n",
    "        x = self.layer_norm(x)  # Normalize across the feature dimension\n",
    "        \n",
    "        # Step 3: TODO: Apply mean pooling across the time dimension  # Shape: (B, d_embed)\n",
    "        pooled = x.mean(dim=1) \n",
    "        \n",
    "        # Step 4: TODO: Generate logits for classification  # Shape: (B, num_classes)\n",
    "        logits = self.classifier(pooled)\n",
    "        return logits"
   ]
  },
  {
   "cell_type": "code",
   "execution_count": 32,
   "id": "55f250b5",
   "metadata": {},
   "outputs": [
    {
     "name": "stdout",
     "output_type": "stream",
     "text": [
      "DemoGPT output shape: torch.Size([64, 2])\n",
      "Logits sample:\n",
      " tensor([[-0.1903,  0.2288],\n",
      "        [-0.2213,  0.1900]], device='cuda:0', grad_fn=<SliceBackward0>)\n"
     ]
    }
   ],
   "source": [
    "# Instantiate the model\n",
    "demo_gpt = DemoGPT(config).to(device)\n",
    "\n",
    "# Suppose we have a batch of size 32, each with a sequence length of 128\n",
    "dummy_token_ids = torch.randint(\n",
    "    0, config[\"vocabulary_size\"], \n",
    "    (BATCH_SIZE, config[\"context_size\"])\n",
    ").to(device)\n",
    "\n",
    "# Forward pass\n",
    "logits = demo_gpt(dummy_token_ids)\n",
    "\n",
    "print(\"DemoGPT output shape:\", logits.shape)\n",
    "print(\"Logits sample:\\n\", logits[:2])  # Print first two examples' logits"
   ]
  },
  {
   "cell_type": "markdown",
   "id": "2ecea5a4",
   "metadata": {},
   "source": [
    "Expected shape:\n",
    "\n",
    "> `(B,num_classes)=(32,2)`\n"
   ]
  },
  {
   "cell_type": "code",
   "execution_count": 33,
   "id": "ce0aa703",
   "metadata": {},
   "outputs": [],
   "source": [
    "# Assert that the number of logits matches the number of classes\n",
    "assert logits.size(1) == config[\"num_classes\"], (\n",
    "    f\"Expected number of classes {config['num_classes']}, \"\n",
    "    f\"but got {logits.size(1)}\"\n",
    ")\n",
    "\n",
    "# Assert that the batch size of the output matches the input batch size\n",
    "assert logits.size(0) == BATCH_SIZE, (\n",
    "    f\"Expected batch size {BATCH_SIZE}, \"\n",
    "    f\"but got {logits.size(0)}\"\n",
    ")"
   ]
  },
  {
   "cell_type": "markdown",
   "id": "f40ef046",
   "metadata": {},
   "source": [
    "## Implement Accuracy Calculation Method <a name=\"implement-accuracy-calculation-method\"></a>\n",
    "\n",
    "In this section, you will learn how to calculate the validation accuracy for the transformer model on the IMDB dataset. Validation accuracy provides a performance metric that helps assess how well the model generalizes to unseen data during training.\n",
    "\n",
    "### 1. Overview\n",
    "The function to calculate validation accuracy will:\n",
    "\n",
    "- Evaluate the model on the validation dataset.\n",
    "- Generate predictions for each batch.\n",
    "- Compare predictions with the true labels.\n",
    "- Compute the percentage of correctly classified examples.\n",
    "\n",
    "### 2.  Key Points\n",
    "- **Evaluation Mode**: Calling `model.eval()` ensures that dropout and other training-specific layers are disabled during evaluation.\n",
    "- **No Gradients**: The `torch.no_grad()` context disables gradient computation, reducing memory usage and speeding up validation.\n",
    "- **Predictions**: `torch.argmax(logits, dim=1)` retrieves the index of the highest logit for each sample, which corresponds to the predicted class label.\n",
    "- **Accuracy Calculation**: The function computes the fraction of correct predictions out of the total number of samples, then multiplies by 100 to express it as a percentage.\n",
    "\n",
    "After calculating the validation accuracy, incorporate this function into your training loop. Typically, you would call calculate_accuracy at the end of each epoch or after a specific number of training steps. Monitoring validation accuracy over time helps you track performance gains and identify potential overfitting or underfitting issues."
   ]
  },
  {
   "cell_type": "code",
   "execution_count": 34,
   "id": "df0701b1",
   "metadata": {},
   "outputs": [],
   "source": [
    "def calculate_accuracy(model, data_loader, device):\n",
    "    \"\"\"\n",
    "    Calculate the accuracy of the model on the validation dataset.\n",
    "\n",
    "    Args:\n",
    "        model (torch.nn.Module): The trained transformer model.\n",
    "        data_loader (torch.utils.data.DataLoader): DataLoader for the validation dataset.\n",
    "        device (torch.device): Device to run the model (e.g., 'cuda' or 'cpu').\n",
    "\n",
    "    Returns:\n",
    "        float: Validation accuracy as a percentage.\n",
    "    \"\"\"\n",
    "    model.eval()\n",
    "    total_correct = 0\n",
    "    total_samples = 0\n",
    "    with torch.no_grad():\n",
    "        for input_ids, labels in data_loader:\n",
    "            input_ids = input_ids.to(device)\n",
    "            labels = torch.as_tensor(labels, dtype=torch.long, device=device)\n",
    "            logits = model(input_ids)\n",
    "            preds = logits.argmax(dim=1)\n",
    "            total_correct += (preds == labels).sum().item()\n",
    "            total_samples += labels.size(0)\n",
    "\n",
    "\n",
    "    accuracy =  100.0 * total_correct / max(1, total_samples) #(total_correct / total_samples) * 100\n",
    "    return accuracy"
   ]
  },
  {
   "cell_type": "code",
   "execution_count": 35,
   "id": "e92ac596",
   "metadata": {},
   "outputs": [],
   "source": [
    "model = DemoGPT(config).to(device)"
   ]
  },
  {
   "cell_type": "code",
   "execution_count": 36,
   "id": "ec013daf",
   "metadata": {},
   "outputs": [
    {
     "name": "stdout",
     "output_type": "stream",
     "text": [
      "Validation Accuracy: 50.68%\n"
     ]
    }
   ],
   "source": [
    "validation_accuracy = calculate_accuracy(model, val_loader, device)\n",
    "print(f\"Validation Accuracy: {validation_accuracy:.2f}%\")"
   ]
  },
  {
   "cell_type": "markdown",
   "id": "6df3efa2",
   "metadata": {},
   "source": [
    "As you can see, the validation accuracy is close to 50%. This is expected as the model's parameters have been initialized randomly. "
   ]
  },
  {
   "cell_type": "markdown",
   "id": "ebd68435",
   "metadata": {},
   "source": [
    "## Train the Model <a name=\"train-the-model\"></a>\n",
    "\n",
    "In this section, we will define the training loop for the transformer-based model designed for sentiment analysis. The training loop is crucial for optimizing the model's weights and biases to minimize the loss function and improve classification performance.\n",
    "\n",
    "### Training Loop\n",
    "\n",
    "The training loop will involve the following steps:\n",
    "\n",
    "1. **Iterate through epochs**: Repeat the training process for a predefined number of epochs.\n",
    "2. **Load batches of data**: Use the `DataLoader` to retrieve batches of input IDs and labels.\n",
    "3. **Forward pass**: Compute the logits by passing the input IDs through the model.\n",
    "4. **Compute loss**: Use cross-entropy loss as the criterion.\n",
    "5. **Backward pass and optimization**: Backpropagate the loss and update the model parameters using the optimizer.\n",
    "6. **Validation**: Calculate the validation accuracy after each epoch.\n"
   ]
  },
  {
   "cell_type": "code",
   "execution_count": 37,
   "id": "93b5a20a",
   "metadata": {},
   "outputs": [
    {
     "name": "stdout",
     "output_type": "stream",
     "text": [
      "Loaded BEST weights (best_acc=82.88%), resume epoch 10.\n"
     ]
    }
   ],
   "source": [
    "# Load BEST checkpoint if it exists (prefer BEST weights), else LAST; then train.\n",
    "\n",
    "import os, torch\n",
    "import torch.nn as nn\n",
    "import torch.optim as optim\n",
    "\n",
    "ckpt_dir = \"checkpoints\"\n",
    "best_path = os.path.join(ckpt_dir, \"best.pt\")\n",
    "last_path = os.path.join(ckpt_dir, \"last.pt\")\n",
    "\n",
    "model = DemoGPT(config).to(device)\n",
    "criterion = nn.CrossEntropyLoss()\n",
    "optimizer = optim.AdamW(model.parameters(),  lr=2e-4, betas=(0.9, 0.98), eps=1e-8, weight_decay=0.01)\n",
    "\n",
    "EPOCHS = 10\n",
    "total_steps  = len(train_loader) * EPOCHS\n",
    "warmup_steps = int(0.1 * total_steps)\n",
    "scheduler = optim.lr_scheduler.CosineAnnealingLR(optimizer, T_max=(total_steps - warmup_steps))\n",
    "base_lrs = [pg[\"lr\"] for pg in optimizer.param_groups]\n",
    "\n",
    "start_epoch = 0\n",
    "best_acc = 0.0\n",
    "global_step = 0\n",
    "reload = True\n",
    "# ---------- prefer BEST weights, resume opt/sched from LAST if available ----------\n",
    "if os.path.isfile(best_path) and reload:\n",
    "    ckpt_best = torch.load(best_path, map_location=device)\n",
    "    model.load_state_dict(ckpt_best[\"model_state\"])\n",
    "    best_acc = float(ckpt_best.get(\"best_acc\", 0.0))\n",
    "\n",
    "    if os.path.isfile(last_path):\n",
    "        ckpt_last = torch.load(last_path, map_location=device)\n",
    "        try:\n",
    "            optimizer.load_state_dict(ckpt_last[\"optimizer_state\"])\n",
    "            if \"scheduler_state\" in ckpt_last and ckpt_last[\"scheduler_state\"] is not None:\n",
    "                 scheduler.load_state_dict(ckpt_last[\"scheduler_state\"])\n",
    "            start_epoch = int(ckpt_last.get(\"epoch\", -1)) + 1\n",
    "            global_step = start_epoch * len(train_loader)\n",
    "        except Exception:\n",
    "            start_epoch, global_step = 0, 0\n",
    "    print(f\"Loaded BEST weights (best_acc={best_acc:.2f}%), resume epoch {start_epoch}.\")\n",
    "elif os.path.isfile(last_path):\n",
    "    ckpt_last = torch.load(last_path, map_location=device)\n",
    "    model.load_state_dict(ckpt_last[\"model_state\"])\n",
    "    optimizer.load_state_dict(ckpt_last[\"optimizer_state\"])\n",
    "    if \"scheduler_state\" in ckpt_last and ckpt_last[\"scheduler_state\"] is not None:\n",
    "         scheduler.load_state_dict(ckpt_last[\"scheduler_state\"])\n",
    "    start_epoch = int(ckpt_last.get(\"epoch\", -1)) + 1\n",
    "    best_acc = float(ckpt_last.get(\"best_acc\", 0.0))\n",
    "    global_step = start_epoch * len(train_loader)\n",
    "    print(f\"Resumed LAST (epoch {start_epoch}, best_acc={best_acc:.2f}%).\")\n",
    "else:\n",
    "    print(\"No checkpoint found. Training from scratch.\")\n",
    "\n",
    "# ---------------------------- training loop ----------------------------\n",
    "for epoch in range(start_epoch, EPOCHS):\n",
    "    model.train()\n",
    "    running_loss = 0.0\n",
    "    for step, (input_ids, labels) in enumerate(train_loader):\n",
    "        input_ids = input_ids.to(device)\n",
    "        labels = torch.as_tensor(labels, dtype=torch.long, device=device)\n",
    "\n",
    "        logits = model(input_ids)\n",
    "        loss = criterion(logits, labels)\n",
    "\n",
    "        optimizer.zero_grad()\n",
    "        loss.backward()\n",
    "        torch.nn.utils.clip_grad_norm_(model.parameters(), 1.0)\n",
    "        optimizer.step()\n",
    "\n",
    "        # linear warmup then cosine\n",
    "        global_step += 1\n",
    "        if global_step <= warmup_steps:\n",
    "            scale = global_step / max(1, warmup_steps)\n",
    "            for pg, lr0 in zip(optimizer.param_groups, base_lrs):\n",
    "                pg[\"lr\"] = lr0 * scale\n",
    "        else:\n",
    "            scheduler.step()\n",
    "\n",
    "        running_loss += loss.item()\n",
    "\n",
    "    val_acc = calculate_accuracy(model, val_loader, device)\n",
    "    print(f\"Epoch {epoch+1}/{EPOCHS}  val_acc={val_acc:.2f}%  loss={running_loss/len(train_loader):.4f}\")\n",
    "\n",
    "    # save last\n",
    "    os.makedirs(ckpt_dir, exist_ok=True)\n",
    "    torch.save({\n",
    "        \"epoch\": epoch,\n",
    "        \"model_state\": (model.module.state_dict() if hasattr(model, \"module\") else model.state_dict()),\n",
    "        \"optimizer_state\": optimizer.state_dict(),\n",
    "        \"scheduler_state\": scheduler.state_dict(),\n",
    "        \"best_acc\": max(best_acc, val_acc),\n",
    "        \"config\": config,\n",
    "    }, last_path)\n",
    "\n",
    "    # save best\n",
    "    if val_acc > best_acc:\n",
    "        best_acc = val_acc\n",
    "        torch.save({\n",
    "            \"epoch\": epoch,\n",
    "            \"model_state\": (model.module.state_dict() if hasattr(model, \"module\") else model.state_dict()),\n",
    "            \"optimizer_state\": optimizer.state_dict(),\n",
    "            \"scheduler_state\": scheduler.state_dict(),\n",
    "            \"best_acc\": best_acc,\n",
    "            \"config\": config,\n",
    "        }, best_path)\n",
    "        print(f\"✅ New BEST saved @ {best_acc:.2f}%\")\n"
   ]
  },
  {
   "cell_type": "markdown",
   "id": "af98266a",
   "metadata": {},
   "source": [
    "#### Notes\n",
    "\n",
    "- The `evaluate_accuracy` function calculates the model's accuracy on the validation dataset. Ensure this function is defined and works as expected.\n",
    "- The training progress is logged every 100 steps to monitor performance.\n",
    "- After each epoch, the validation accuracy is printed to ensure the model generalizes well to unseen data.\n"
   ]
  },
  {
   "cell_type": "markdown",
   "id": "18d4fd56",
   "metadata": {},
   "source": [
    "## Test the Model <a name=\"test-the-model\"></a>\n",
    "\n",
    "In this section, you will evaluate the performance of your trained transformer model on the test dataset. Testing the model involves loading the test dataset, passing it through the model, and calculating the accuracy."
   ]
  },
  {
   "cell_type": "code",
   "execution_count": 38,
   "id": "7d0167a7",
   "metadata": {},
   "outputs": [
    {
     "name": "stdout",
     "output_type": "stream",
     "text": [
      "Test Accuracy: 80.74%\n"
     ]
    }
   ],
   "source": [
    "# TODO: Calculate the accuracy of the model over the test set using the calculate_accuracy() function\n",
    "test_accuracy = calculate_accuracy(model, test_loader, device)\n",
    "print(f\"Test Accuracy: {test_accuracy:.2f}%\")"
   ]
  },
  {
   "cell_type": "markdown",
   "id": "12d6f2a4",
   "metadata": {},
   "source": [
    "\n",
    "With the accuracy calculated, you can verify if the model meets the project goal of achieving greater than 75% accuracy on the test dataset. \n",
    "\n",
    "Try training your model for more than 3 epochs! Try increasing the size of the embedding used in the model. Or try increasing the number of blocks or layers in the model. You may be able to improve the accuracy of your model further!\n"
   ]
  },
  {
   "cell_type": "markdown",
   "id": "6cb72f72",
   "metadata": {},
   "source": [
    "## Conclusion <a name=\"conclusion\"></a>"
   ]
  },
  {
   "cell_type": "markdown",
   "id": "123ed75d",
   "metadata": {},
   "source": [
    " TODO: \n",
    " 1. Summarize the project results\n",
    " 2. List key takeaways"
   ]
  },
  {
   "cell_type": "markdown",
   "id": "fba57ebc",
   "metadata": {},
   "source": [
    "**Project Results (Summary)**\n",
    "\n",
    "-Loaded IMDB (25k train / 25k test), verified shapes and columns.\n",
    "\n",
    "-Shuffled and split training 90/10 into train/val.\n",
    "\n",
    "-Tokenized with bert-base-uncased (padding/truncation to max length), sanity-checked sample encodings.\n",
    "\n",
    "-Implemented IMDBDataset + DataLoader (batching/shuffling) and passed dataset asserts.\n",
    "\n",
    "-Built a custom transformer (DemoGPT): token + positional embeddings → 4× blocks (MHA + FFN) → layernorm → mean pooling → linear classifier.\n",
    "\n",
    "-Wrote accuracy routine and a full training loop with AdamW; monitored loss and computed validation accuracy per epoch; evaluated on the held-out test set with the same metric.\n",
    "\n",
    "**3 Key Takeaways**\n",
    "\n",
    "1. Tokenization & context length drive performance: consistent preprocessing and sufficient MAX_LENGTH materially improve accuracy.\n",
    "\n",
    "2. Capacity vs. regularization: align heads_num * head_size = d_embed, scale depth/width prudently, and use dropout/weight decay to control overfitting.\n",
    "\n",
    "3. Optimization matters: AdamW + warmup/cosine schedule + gradient clipping gives steadier training and better generalization."
   ]
  },
  {
   "cell_type": "code",
   "execution_count": 39,
   "id": "b3db267d",
   "metadata": {},
   "outputs": [
    {
     "name": "stdout",
     "output_type": "stream",
     "text": [
      "Resumed from epoch 10, best_acc=82.88%\n"
     ]
    }
   ],
   "source": [
    "# --- Load / Resume ---\n",
    "ckpt = torch.load(os.path.join(ckpt_dir, \"last.pt\"), map_location=device)\n",
    "\n",
    "model.load_state_dict(ckpt[\"model_state\"])\n",
    "optimizer.load_state_dict(ckpt[\"optimizer_state\"])\n",
    "if scheduler and \"scheduler_state\" in ckpt and ckpt[\"scheduler_state\"] is not None:\n",
    "    scheduler.load_state_dict(ckpt[\"scheduler_state\"])\n",
    "\n",
    "start_epoch = ckpt.get(\"epoch\", -1) + 1\n",
    "best_acc = ckpt.get(\"best_acc\", 0.0)\n",
    "\n",
    "model.to(device)\n",
    "print(f\"Resumed from epoch {start_epoch}, best_acc={best_acc:.2f}%\")"
   ]
  },
  {
   "cell_type": "code",
   "execution_count": null,
   "id": "0cbc6655",
   "metadata": {},
   "outputs": [],
   "source": [
    "# TODO: Calculate the accuracy of the model over the test set using the calculate_accuracy() function\n",
    "test_accuracy = calculate_accuracy(model, test_loader, device)\n",
    "print(f\"Test Accuracy: {test_accuracy:.2f}%\")"
   ]
  }
 ],
 "metadata": {
  "kernelspec": {
   "display_name": "Python 3 (ipykernel)",
   "language": "python",
   "name": "python3"
  },
  "language_info": {
   "codemirror_mode": {
    "name": "ipython",
    "version": 3
   },
   "file_extension": ".py",
   "mimetype": "text/x-python",
   "name": "python",
   "nbconvert_exporter": "python",
   "pygments_lexer": "ipython3",
   "version": "3.10.14"
  }
 },
 "nbformat": 4,
 "nbformat_minor": 5
}
